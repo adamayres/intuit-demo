{
 "cells": [
  {
   "cell_type": "markdown",
   "id": "bdfce5af-25a8-490d-b797-cac1c38e5d51",
   "metadata": {},
   "source": [
    "# Intuit Refund ETA Prediction\n",
    "\n",
    "This notebook demonstrates how to:\n",
    "- Generate mock tax refund data\n",
    "- Train an XGBoost regression model\n",
    "- Predict refund arrival times\n",
    "- Explain predictions with SHAP"
   ]
  },
  {
   "cell_type": "code",
   "execution_count": 1,
   "id": "4d5d1ac8-6cee-4cfd-a3b1-f6b68514b620",
   "metadata": {},
   "outputs": [
    {
     "ename": "SyntaxError",
     "evalue": "invalid syntax (3982017575.py, line 8)",
     "output_type": "error",
     "traceback": [
      "  \u001b[36mCell\u001b[39m\u001b[36m \u001b[39m\u001b[32mIn[1]\u001b[39m\u001b[32m, line 8\u001b[39m\n\u001b[31m    \u001b[39m\u001b[31mfrom scikit-learn.model_selection import train_test_split\u001b[39m\n               ^\n\u001b[31mSyntaxError\u001b[39m\u001b[31m:\u001b[39m invalid syntax\n"
     ]
    }
   ],
   "source": [
    "import numpy as np\n",
    "import pandas as pd\n",
    "import xgboost as xgb\n",
    "from xgboost import XGBRegressor\n",
    "import seaborn as sns\n",
    "import shap\n",
    "import matplotlib.pyplot as plt\n",
    "from sklearn.model_selection import train_test_split\n",
    "from sklearn.metrics import root_mean_squared_error\n",
    "from sklearn.inspection import PartialDependenceDisplay\n",
    "from train_model import train_model, categorical_cols\n",
    "\n",
    "import warnings\n",
    "warnings.filterwarnings(\"ignore\", category=FutureWarning)"
   ]
  },
  {
   "cell_type": "code",
   "execution_count": null,
   "id": "6666a382-aa41-45ef-9f65-bc7ea1608882",
   "metadata": {},
   "outputs": [],
   "source": [
    "# Read generated fake data\n",
    "df = pd.read_csv(\"../generated/training_data.csv\")\n",
    "\n",
    "# Quick preview\n",
    "df.head()"
   ]
  },
  {
   "cell_type": "code",
   "execution_count": null,
   "id": "944cb1d8-4609-4f6d-8084-0c24ff1772b8",
   "metadata": {},
   "outputs": [],
   "source": [
    "# Train model\n",
    "model, X_encoded, X_test, X_train, dtest, y_test, y_train = train_model(\"../generated/training_data.csv\")\n",
    "\n",
    "print(\"X_train types:\")\n",
    "print(X_train.dtypes.value_counts())\n",
    "\n",
    "y_pred = model.predict(dtest)\n",
    "rmse = root_mean_squared_error(y_test, y_pred)\n",
    "\n",
    "print(f\"RMSE: {rmse:.2f} days\")"
   ]
  },
  {
   "cell_type": "code",
   "execution_count": null,
   "id": "19e4d647-bbfe-4a52-9acd-0fa76ff6c18f",
   "metadata": {},
   "outputs": [],
   "source": [
    "# Use the model to predict a tax refund time\n",
    "\n",
    "# Define a test user record (raw, not encoded)\n",
    "test_record = {\n",
    "    \"filing_method\": \"efile_direct_deposit\",\n",
    "    \"filing_time_category\": \"early\",\n",
    "    \"bank_deposit_type\": \"traditional_bank\",\n",
    "    \"geo_region\": \"west\",\n",
    "    \"prior_credits_claimed\": \"few\",\n",
    "\n",
    "    \"has_return_errors\": 0,\n",
    "    \"requires_id_verification\": 0,\n",
    "    \"is_selected_for_manual_review\": 0,\n",
    "    \"claimed_eitc\": 1,\n",
    "    \"claimed_actc\": 0,\n",
    "    \"is_amended_return\": 0,\n",
    "    \"has_injured_spouse_claim\": 0,\n",
    "    \"has_offset_debts\": 0,\n",
    "    \"prior_refund_delayed\": 0,\n",
    "    \"prior_id_verification_flagged\": 0,\n",
    "    \"has_bank_info_on_file\": 1,\n",
    "\n",
    "    \"num_days_since_filed\": 12,\n",
    "    \"return_completeness_score\": 0.95,\n",
    "    \"prior_refund_processing_time\": 10\n",
    "}\n",
    "\n",
    "# Convert to DataFrame\n",
    "sample_user = pd.DataFrame([test_record])\n",
    "\n",
    "# One-hot encode the same categorical columns\n",
    "sample_user_encoded = pd.get_dummies(sample_user, columns=categorical_cols)\n",
    "\n",
    "model_features = list(X_encoded.columns)\n",
    "\n",
    "# Ensure all columns match the model\n",
    "for col in model_features:\n",
    "    if col not in sample_user_encoded.columns:\n",
    "        sample_user_encoded[col] = 0\n",
    "\n",
    "# Reorder columns to match training data\n",
    "sample_user_encoded = sample_user_encoded[model_features]\n",
    "\n",
    "# Check dtypes\n",
    "print(sample_user_encoded.dtypes.value_counts())\n",
    "\n",
    "# Create DMatrix\n",
    "d_sample = xgb.DMatrix(sample_user_encoded)\n",
    "\n",
    "# Predict\n",
    "pred_delay = model.predict(d_sample)\n",
    "\n",
    "print(f\"Predicted refund delay: {pred_delay[0]:.2f} days\")"
   ]
  },
  {
   "cell_type": "code",
   "execution_count": null,
   "id": "7959747e-cd67-4fe6-ab4b-859aff714053",
   "metadata": {},
   "outputs": [],
   "source": [
    "# Use SHAP to explain prediction\n",
    "explainer = shap.TreeExplainer(model)\n",
    "shap_values = explainer.shap_values(sample_user_encoded)\n",
    "\n",
    "shap.initjs()\n",
    "\n",
    "shap.force_plot(\n",
    "    explainer.expected_value,\n",
    "    shap_values,\n",
    "    sample_user_encoded\n",
    ")"
   ]
  },
  {
   "cell_type": "code",
   "execution_count": null,
   "id": "8b797cfc-f2f6-4a07-97fb-a81c1807dcc1",
   "metadata": {},
   "outputs": [],
   "source": [
    "# Output reasons for delay\n",
    "reasons = {\n",
    "    key: float(value)\n",
    "    for key, value in zip(sample_user.columns, shap_values[0])\n",
    "}\n",
    "\n",
    "# Convert to DataFrame\n",
    "reasons_df = pd.DataFrame(\n",
    "    list(reasons.items()),\n",
    "    columns=[\"Feature\", \"SHAP Value\"]\n",
    ")\n",
    "\n",
    "# Sort by absolute SHAP value\n",
    "reasons_df = reasons_df.reindex(\n",
    "    reasons_df[\"SHAP Value\"].abs().sort_values(ascending=False).index\n",
    ")\n",
    "\n",
    "reasons_df"
   ]
  },
  {
   "cell_type": "code",
   "execution_count": null,
   "id": "6ca6e199-f71d-4edd-8b4a-015380709ad1",
   "metadata": {},
   "outputs": [],
   "source": [
    "# Compute SHAP values for entire test set\n",
    "shap_values_all = explainer.shap_values(X_test)\n",
    "\n",
    "# Plot summary\n",
    "shap.summary_plot(shap_values_all, X_test)"
   ]
  },
  {
   "cell_type": "code",
   "execution_count": null,
   "id": "a475b38c-fefd-419f-819c-118ada77586a",
   "metadata": {},
   "outputs": [],
   "source": [
    "xgb.plot_importance(model)\n",
    "plt.show()"
   ]
  },
  {
   "cell_type": "code",
   "execution_count": null,
   "id": "26de2db3-30a0-4b08-b6e1-c0bc234cb9b2",
   "metadata": {},
   "outputs": [],
   "source": [
    "shap.summary_plot(shap_values, X_test, plot_type=\"bar\")"
   ]
  },
  {
   "cell_type": "code",
   "execution_count": null,
   "id": "568b536f-c9df-4bfc-94d5-de3f283caee6",
   "metadata": {},
   "outputs": [],
   "source": [
    "shap.force_plot(\n",
    "    explainer.expected_value,\n",
    "    shap_values[0],\n",
    "    X_test.iloc[0],\n",
    "    matplotlib=True\n",
    ")"
   ]
  },
  {
   "cell_type": "code",
   "execution_count": null,
   "id": "6d5c1f67-2f7a-4c6b-9e4d-58d94d9b0d63",
   "metadata": {},
   "outputs": [],
   "source": [
    "# Train with scikit-learn API\n",
    "trained_model_reg = XGBRegressor(\n",
    "    objective=\"reg:squarederror\",\n",
    "    max_depth=4,\n",
    "    eta=0.1,\n",
    "    n_estimators=100,\n",
    ")\n",
    "\n",
    "trained_model_reg.fit(X_train, y_train)\n",
    "\n",
    "PartialDependenceDisplay.from_estimator(\n",
    "    trained_model_reg,\n",
    "    X_test,\n",
    "    [\"num_days_since_filed\"]\n",
    ")\n",
    "\n",
    "plt.show()"
   ]
  },
  {
   "cell_type": "code",
   "execution_count": null,
   "id": "0cc80e60-188b-4168-905a-95f91e74509e",
   "metadata": {},
   "outputs": [],
   "source": [
    "corr = X_test.corr()\n",
    "plt.figure(figsize=(10,8))\n",
    "sns.heatmap(corr, annot=False, cmap=\"coolwarm\")\n",
    "plt.title(\"Feature Correlations\")\n",
    "plt.show()"
   ]
  },
  {
   "cell_type": "code",
   "execution_count": null,
   "id": "4a5d179d-d475-4fe0-900f-b8e4854c653c",
   "metadata": {},
   "outputs": [],
   "source": [
    "errors = y_test - y_pred\n",
    "plt.hist(errors, bins=30)\n",
    "plt.xlabel(\"Prediction Error (days)\")\n",
    "plt.ylabel(\"Frequency\")\n",
    "plt.title(\"Distribution of Prediction Errors\")\n",
    "plt.show()"
   ]
  },
  {
   "cell_type": "code",
   "execution_count": null,
   "id": "e880f3ee-a857-4f98-ac68-9d93fafe514a",
   "metadata": {},
   "outputs": [],
   "source": [
    "shap_interaction_values = explainer.shap_interaction_values(X_test)\n",
    "shap.summary_plot(shap_interaction_values, X_test)"
   ]
  },
  {
   "cell_type": "code",
   "execution_count": null,
   "id": "f5a5652f-0887-4aef-bf3d-f3b618bad763",
   "metadata": {},
   "outputs": [],
   "source": [
    "plt.scatter(y_test, y_pred, alpha=0.5)\n",
    "plt.plot([y_test.min(), y_test.max()], [y_test.min(), y_test.max()], color='red')\n",
    "plt.xlabel(\"Actual refund delay\")\n",
    "plt.ylabel(\"Predicted refund delay\")\n",
    "plt.title(\"Predicted vs Actual Refund Delay\")\n",
    "plt.show()"
   ]
  }
 ],
 "metadata": {
  "kernelspec": {
   "display_name": "Python (intuit-demo)",
   "language": "python",
   "name": "intuit-demo"
  },
  "language_info": {
   "codemirror_mode": {
    "name": "ipython",
    "version": 3
   },
   "file_extension": ".py",
   "mimetype": "text/x-python",
   "name": "python",
   "nbconvert_exporter": "python",
   "pygments_lexer": "ipython3",
   "version": "3.13.5"
  }
 },
 "nbformat": 4,
 "nbformat_minor": 5
}
